{
 "cells": [
  {
   "cell_type": "code",
   "execution_count": 1,
   "metadata": {},
   "outputs": [],
   "source": [
    "import os"
   ]
  },
  {
   "cell_type": "code",
   "execution_count": 4,
   "metadata": {},
   "outputs": [
    {
     "name": "stdout",
     "output_type": "stream",
     "text": [
      "Successfully created the directory /u/s/s/ssrinivasan/private/CS639Project/CS639-Final-Project/train \n",
      "Successfully created the directory /u/s/s/ssrinivasan/private/CS639Project/CS639-Final-Project/train \n",
      "Successfully created the directory /u/s/s/ssrinivasan/private/CS639Project/CS639-Final-Project/train \n"
     ]
    }
   ],
   "source": [
    "#train set\n",
    "path = \"/u/s/s/ssrinivasan/private/CS639Project/CS639-Final-Project/train\"\n",
    "try:\n",
    "    os.mkdir(path)\n",
    "except OSError:\n",
    "    print (\"Creation of the directory %s failed\" % path)\n",
    "else:\n",
    "    print (\"Successfully created the directory %s \" % path)\n",
    "try:\n",
    "    os.mkdir(path+\"/annotations\")\n",
    "except OSError:\n",
    "    print (\"Creation of the directory %s failed\" % path)\n",
    "else:\n",
    "    print (\"Successfully created the directory %s \" % path)\n",
    "try:\n",
    "    os.mkdir(path+\"/sequences\")\n",
    "except OSError:\n",
    "    print (\"Creation of the directory %s failed\" % path)\n",
    "else:\n",
    "    print (\"Successfully created the directory %s \" % path)"
   ]
  },
  {
   "cell_type": "code",
   "execution_count": 5,
   "metadata": {},
   "outputs": [
    {
     "name": "stdout",
     "output_type": "stream",
     "text": [
      "Successfully created the directory /u/s/s/ssrinivasan/private/CS639Project/CS639-Final-Project/test \n",
      "Successfully created the directory /u/s/s/ssrinivasan/private/CS639Project/CS639-Final-Project/test \n",
      "Successfully created the directory /u/s/s/ssrinivasan/private/CS639Project/CS639-Final-Project/test \n"
     ]
    }
   ],
   "source": [
    "#test set\n",
    "path = \"/u/s/s/ssrinivasan/private/CS639Project/CS639-Final-Project/test\"\n",
    "try:\n",
    "    os.mkdir(path)\n",
    "except OSError:\n",
    "    print (\"Creation of the directory %s failed\" % path)\n",
    "else:\n",
    "    print (\"Successfully created the directory %s \" % path)\n",
    "try:\n",
    "    os.mkdir(path+\"/annotations\")\n",
    "except OSError:\n",
    "    print (\"Creation of the directory %s failed\" % path)\n",
    "else:\n",
    "    print (\"Successfully created the directory %s \" % path)\n",
    "try:\n",
    "    os.mkdir(path+\"/sequences\")\n",
    "except OSError:\n",
    "    print (\"Creation of the directory %s failed\" % path)\n",
    "else:\n",
    "    print (\"Successfully created the directory %s \" % path)"
   ]
  },
  {
   "cell_type": "code",
   "execution_count": 6,
   "metadata": {},
   "outputs": [
    {
     "name": "stdout",
     "output_type": "stream",
     "text": [
      "Successfully created the directory /u/s/s/ssrinivasan/private/CS639Project/CS639-Final-Project/val \n",
      "Successfully created the directory /u/s/s/ssrinivasan/private/CS639Project/CS639-Final-Project/val \n"
     ]
    }
   ],
   "source": [
    "#validation set\n",
    "path = \"/u/s/s/ssrinivasan/private/CS639Project/CS639-Final-Project/val\"\n",
    "try:\n",
    "    os.mkdir(path)\n",
    "except OSError:\n",
    "    print (\"Creation of the directory %s failed\" % path)\n",
    "else:\n",
    "    print (\"Successfully created the directory %s \" % path)\n",
    "           \n",
    "try:\n",
    "    os.mkdir(path+\"/sequences\")\n",
    "except OSError:\n",
    "    print (\"Creation of the directory %s failed\" % path)\n",
    "else:\n",
    "    print (\"Successfully created the directory %s \" % path)"
   ]
  },
  {
   "cell_type": "code",
   "execution_count": 7,
   "metadata": {},
   "outputs": [
    {
     "name": "stdout",
     "output_type": "stream",
     "text": [
      "['00001', '00002', '00003', '00004', '00005', '00006', '00007', '00008', '00009', '00010', '00012', '00013', '00014', '00019', '00020', '00021', '00025', '00026', '00027', '00028', '00029', '00030', '00031', '00032', '00033', '00036', '00037', '00038', '00039', '00040', '00041', '00045', '00046', '00047', '00048', '00049', '00050', '00051', '00052', '00053', '00054', '00055', '00056', '00057', '00058', '00059', '00060', '00064', '00066', '00067', '00068', '00071', '00072', '00073', '00076', '00077', '00078', '00079', '00080', '00081', '00083', '00084', '00085', '00086', '00087', '00089', '00090', '00091', '00092', '00093', '00094', '00096', '00097', '00098', '00099', '00100', '00102', '00104', '00106', '00107', '00109', '00110']\n"
     ]
    }
   ],
   "source": [
    "root = \"/u/s/s/ssrinivasan/private/CS639Project/CS639-Final-Project/VisDrone2020-CC/\"\n",
    "f = open(root+\"trainlist.txt\", \"r\")\n",
    "l = []\n",
    "for line in f:\n",
    "    # Split on any whitespace (including tab characters)\n",
    "    row = line.split()\n",
    "    row= ''.join(row)\n",
    "    l.append(row)\n",
    "f.close()\n",
    "print(l)"
   ]
  },
  {
   "cell_type": "code",
   "execution_count": 8,
   "metadata": {},
   "outputs": [
    {
     "name": "stdout",
     "output_type": "stream",
     "text": [
      "['00011', '00015', '00016', '00017', '00018', '00022', '00023', '00024', '00034', '00035', '00042', '00043', '00044', '00061', '00062', '00063', '00065', '00069', '00070', '00074', '00075', '00082', '00088', '00095', '00101', '00103', '00105', '00108', '00111', '00112']\n"
     ]
    }
   ],
   "source": [
    "root = \"/u/s/s/ssrinivasan/private/CS639Project/CS639-Final-Project/VisDrone2020-CC/\"\n",
    "f = open(root+\"testlist.txt\", \"r\")\n",
    "lt = []\n",
    "for line in f:\n",
    "    # Split on any whitespace (including tab characters)\n",
    "    row = line.split()\n",
    "    row= ''.join(row)\n",
    "    lt.append(row)\n",
    "f.close()\n",
    "print(lt)"
   ]
  },
  {
   "cell_type": "code",
   "execution_count": 9,
   "metadata": {},
   "outputs": [
    {
     "name": "stdout",
     "output_type": "stream",
     "text": [
      "train 00031\n",
      "train 00009\n",
      "train 00036\n",
      "train 00038\n",
      "train 00007\n",
      "train 00053\n",
      "train 00098\n",
      "train 00054\n",
      "test 00062\n",
      "train 00096\n",
      "train 00091\n",
      "test 00065\n",
      "train 00039\n",
      "train 00006\n",
      "train 00001\n",
      "train 00008\n",
      "train 00037\n",
      "train 00030\n",
      "train 00064\n",
      "train 00090\n",
      "train 00097\n",
      "test 00063\n",
      "train 00055\n",
      "train 00052\n",
      "train 00099\n",
      "test 00111\n",
      "train 00110\n",
      "test 00103\n",
      "train 00104\n",
      "test 00105\n",
      "train 00102\n",
      "test 00070\n",
      "train 00084\n",
      "train 00048\n",
      "train 00083\n",
      "train 00077\n",
      "train 00041\n",
      "train 00079\n",
      "train 00046\n",
      "train 00012\n",
      "test 00015\n",
      "test 00023\n",
      "test 00024\n",
      "train 00078\n",
      "train 00047\n",
      "train 00040\n",
      "train 00049\n",
      "train 00076\n",
      "test 00082\n",
      "train 00085\n",
      "train 00071\n",
      "train 00025\n",
      "test 00022\n",
      "train 00014\n",
      "train 00013\n",
      "train 00057\n",
      "train 00068\n",
      "train 00050\n",
      "train 00092\n",
      "train 00066\n",
      "train 00059\n",
      "test 00061\n",
      "test 00095\n",
      "test 00035\n",
      "train 00032\n",
      "train 00004\n",
      "train 00003\n",
      "train 00094\n",
      "train 00060\n",
      "train 00067\n",
      "train 00093\n",
      "train 00058\n",
      "train 00051\n",
      "train 00056\n",
      "test 00069\n",
      "train 00002\n",
      "train 00005\n",
      "train 00033\n",
      "test 00034\n",
      "test 00112\n",
      "train 00107\n",
      "train 00100\n",
      "train 00109\n",
      "test 00108\n",
      "test 00101\n",
      "train 00106\n",
      "test 00016\n",
      "train 00029\n",
      "test 00011\n",
      "train 00027\n",
      "test 00018\n",
      "train 00020\n",
      "train 00080\n",
      "test 00074\n",
      "train 00073\n",
      "train 00087\n",
      "train 00045\n",
      "train 00089\n",
      "test 00042\n",
      "train 00021\n",
      "train 00026\n",
      "train 00019\n",
      "train 00010\n",
      "test 00017\n",
      "train 00028\n",
      "test 00088\n",
      "test 00043\n",
      "test 00044\n",
      "train 00086\n",
      "train 00072\n",
      "test 00075\n",
      "train 00081\n"
     ]
    }
   ],
   "source": [
    "import shutil\n",
    "pat = \"/u/s/s/ssrinivasan/private/CS639Project/CS639-Final-Project/\"\n",
    "root = \"/u/s/s/ssrinivasan/private/CS639Project/CS639-Final-Project/VisDrone2020-CC\"\n",
    "for path, dirs, files in os.walk(root+\"/sequences\"):\n",
    "  for f in dirs:\n",
    "    rootanno = \"VisDrone2020-CC/annotations/\"+f+\".txt\"\n",
    "    if f in l:\n",
    "      #si l'annotation existe\n",
    "      print(\"train\",f)\n",
    "      if(os.path.exists(rootanno)):\n",
    "          shutil.copytree(root+\"/sequences/\"+f , pat+\"train/sequences/\"+f)\n",
    "          shutil.copyfile(rootanno, pat+\"train/annotations/\"+f+\".txt\")\n",
    "      else:\n",
    "          shutil.copytree(root+\"/sequences/\"+f, pat+\"val/sequences/\"+f)\n",
    "    elif f in lt:\n",
    "      print(\"test\",f)\n",
    "      shutil.copytree(root+\"/sequences/\"+f, pat+\"test/sequences/\"+f)\n",
    "      if(os.path.exists(rootanno)):\n",
    "        shutil.copyfile(rootanno, pat+\"test/annotations/\"+f+\".txt\")"
   ]
  },
  {
   "cell_type": "code",
   "execution_count": null,
   "metadata": {},
   "outputs": [],
   "source": []
  }
 ],
 "metadata": {
  "kernelspec": {
   "display_name": "Python 3.8.10 64-bit",
   "metadata": {
    "interpreter": {
     "hash": "916dbcbb3f70747c44a77c7bcd40155683ae19c65e1c03b4aa3499c5328201f1"
    }
   },
   "name": "python3"
  },
  "language_info": {
   "codemirror_mode": {
    "name": "ipython",
    "version": 3
   },
   "file_extension": ".py",
   "mimetype": "text/x-python",
   "name": "python",
   "nbconvert_exporter": "python",
   "pygments_lexer": "ipython3",
   "version": "3.8.10"
  },
  "orig_nbformat": 2
 },
 "nbformat": 4,
 "nbformat_minor": 2
}